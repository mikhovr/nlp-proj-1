{
 "cells": [
  {
   "cell_type": "markdown",
   "metadata": {},
   "source": [
    "### Михаил Ховричев"
   ]
  },
  {
   "cell_type": "markdown",
   "metadata": {},
   "source": [
    "Будем составлять программу и проводить анализ по ходу действия. В этом блокноте анализируется текст по выбору. Анализ главы \"Алисы в стране чудес\"  -- в аналогичном блокноте.\n",
    "\n",
    "Python 3.4\n",
    "Для токенизации используется NLTK. Сегментацию он тоже осуществляет, но качество сегментации оставило желать лучшего.\n",
    "Морфологический анализатор: pymorphy2.\n",
    "Для построения графиков: matplotlib.\n",
    "\n",
    "Часть комментариев для удобства будет в самом коде."
   ]
  },
  {
   "cell_type": "code",
   "execution_count": 2,
   "metadata": {
    "collapsed": true
   },
   "outputs": [],
   "source": [
    "%matplotlib inline\n",
    "import pymorphy2\n",
    "from nltk import word_tokenize, sent_tokenize\n",
    "from collections import Counter\n",
    "import matplotlib.pyplot as plt\n",
    "from pprint import pprint\n",
    "\n",
    "morph = pymorphy2.MorphAnalyzer()"
   ]
  },
  {
   "cell_type": "markdown",
   "metadata": {},
   "source": [
    "Функция для быстрого построения столбчатых диаграмм с нормализацией (высота столбца -- проценты)"
   ]
  },
  {
   "cell_type": "code",
   "execution_count": 3,
   "metadata": {
    "collapsed": false
   },
   "outputs": [],
   "source": [
    "def barchart(dic, normalizer, title):\n",
    "    plt.bar(range(len(dic)), sorted([100*x/normalizer for x in list(dic.values())], reverse=True), width=0.8, color='g')\n",
    "    plt.xticks(range(len(dic)), sorted(dic, key=dic.get, reverse=True), rotation=45)\n",
    "    plt.title(title)\n",
    "    plt.show()"
   ]
  },
  {
   "cell_type": "code",
   "execution_count": 1,
   "metadata": {
    "collapsed": false
   },
   "outputs": [],
   "source": [
    "text = open('article.txt', 'r')\n",
    "string = text.read()"
   ]
  },
  {
   "cell_type": "code",
   "execution_count": 4,
   "metadata": {
    "collapsed": false
   },
   "outputs": [],
   "source": [
    "tokens = word_tokenize(string)"
   ]
  },
  {
   "cell_type": "markdown",
   "metadata": {},
   "source": [
    "Список токенов выглядит примерно так:"
   ]
  },
  {
   "cell_type": "code",
   "execution_count": 5,
   "metadata": {
    "collapsed": false
   },
   "outputs": [
    {
     "name": "stdout",
     "output_type": "stream",
     "text": [
      "['Сначала', '—', 'две', 'оговорки', '.', 'Первая', '.', 'Те', ',', 'к']\n"
     ]
    }
   ],
   "source": [
    "pprint(tokens[:10])"
   ]
  },
  {
   "cell_type": "code",
   "execution_count": 6,
   "metadata": {
    "collapsed": false
   },
   "outputs": [
    {
     "data": {
      "text/plain": [
       "[Parse(word='сначала', tag=OpencorporaTag('ADVB'), normal_form='сначала', score=1.0, methods_stack=((<DictionaryAnalyzer>, 'сначала', 3, 0),)),\n",
       " Parse(word='две', tag=OpencorporaTag('NUMR femn,nomn'), normal_form='два', score=0.5, methods_stack=((<DictionaryAnalyzer>, 'две', 1248, 7),)),\n",
       " Parse(word='оговорки', tag=OpencorporaTag('NOUN,inan,femn sing,gent'), normal_form='оговорка', score=0.3333333333333333, methods_stack=((<DictionaryAnalyzer>, 'оговорки', 8, 1),)),\n",
       " Parse(word='первая', tag=OpencorporaTag('ADJF,Anum femn,sing,nomn'), normal_form='один', score=1.0, methods_stack=((<DictionaryAnalyzer>, 'первая', 2198, 33),)),\n",
       " Parse(word='те', tag=OpencorporaTag('ADJF,Apro,Subx,Anph plur,nomn'), normal_form='тот', score=0.75, methods_stack=((<DictionaryAnalyzer>, 'те', 2900, 19),)),\n",
       " Parse(word='к', tag=OpencorporaTag('PREP'), normal_form='к', score=0.998113, methods_stack=((<DictionaryAnalyzer>, 'к', 375, 0),)),\n",
       " Parse(word='кому', tag=OpencorporaTag('NOUN,inan,femn sing,accs'), normal_form='кома', score=0.3333333333333333, methods_stack=((<DictionaryAnalyzer>, 'кому', 55, 3),)),\n",
       " Parse(word='этот', tag=OpencorporaTag('ADJF,Apro,Subx,Anph inan,masc,sing,accs'), normal_form='этот', score=0.581818, methods_stack=((<DictionaryAnalyzer>, 'этот', 3099, 3),)),\n",
       " Parse(word='вопрос', tag=OpencorporaTag('NOUN,inan,masc sing,nomn'), normal_form='вопрос', score=0.572727, methods_stack=((<DictionaryAnalyzer>, 'вопрос', 33, 0),)),\n",
       " Parse(word='обращён', tag=OpencorporaTag('PRTS,perf,past,pssv masc,sing'), normal_form='обратить', score=1.0, methods_stack=((<DictionaryAnalyzer>, 'обращён', 837, 72),))]"
      ]
     },
     "execution_count": 6,
     "metadata": {},
     "output_type": "execute_result"
    }
   ],
   "source": [
    "# Уберём знаки пунктуации и неразобранные токены, остальное выглядит примерно так\n",
    "words = [morph.parse(token)[0] for token in tokens if not ('PNCT' in morph.parse(token)[0].tag or 'UNKN' in morph.parse(token)[0].tag)]\n",
    "words[:10]"
   ]
  },
  {
   "cell_type": "markdown",
   "metadata": {},
   "source": [
    "#### Общестатистические характеристики\n",
    "\n",
    "Посчитаем количество словоупотреблений и словоформ:"
   ]
  },
  {
   "cell_type": "code",
   "execution_count": 7,
   "metadata": {
    "collapsed": false
   },
   "outputs": [
    {
     "name": "stdout",
     "output_type": "stream",
     "text": [
      "Количество словоупотреблений: 677\n",
      "Количество словоформ: 402\n"
     ]
    }
   ],
   "source": [
    "wordforms = [item.word for item in words]\n",
    "unique_wordforms = {word: len(word) for word in wordforms} # На всякий случай будем хранить ещё и длину\n",
    "print('Количество словоупотреблений:', len(wordforms))\n",
    "print('Количество словоформ:', len(unique_wordforms))"
   ]
  },
  {
   "cell_type": "markdown",
   "metadata": {},
   "source": [
    "#### Морфологические характеристики\n",
    "\n",
    "Узнаем процент различных частей речи:"
   ]
  },
  {
   "cell_type": "code",
   "execution_count": 8,
   "metadata": {
    "collapsed": false
   },
   "outputs": [
    {
     "name": "stdout",
     "output_type": "stream",
     "text": [
      "[('NOUN', 165), ('ADJF', 125), ('CONJ', 83), ('PREP', 72), ('NPRO', 57)]\n"
     ]
    },
    {
     "data": {
      "image/png": "[encoded data removed]",
      "text/plain": [
       "<matplotlib.figure.Figure at 0x7f2a63ec9908>"
      ]
     },
     "metadata": {},
     "output_type": "display_data"
    }
   ],
   "source": [
    "poscounter = Counter([word.tag.POS for word in words])\n",
    "print(poscounter.most_common(5)) # 5 самых популярных частей речи\n",
    "barchart(poscounter, len(wordforms), \"Распределение частей речи, %\")"
   ]
  },
  {
   "cell_type": "markdown",
   "metadata": {},
   "source": [
    "**Важно!**\n",
    "В pymorphy2 несколько другая классификация частей речи. Например, инфинитив -- отдельная от глагола часть речи. Краткие и полные прилагательные также относятся к различным частям речи. \n",
    "\n",
    "Полный список см. <a href=\"https://pymorphy2.readthedocs.io/en/latest/user/grammemes.html\">здесь</a> и  <a href=\"http://opencorpora.org/dict.php?act=gram\">здесь</a>.\n",
    "\n",
    "Похожим образом узнаем абсолютную и относительную частоту падежей у существительных:"
   ]
  },
  {
   "cell_type": "code",
   "execution_count": 9,
   "metadata": {
    "collapsed": false
   },
   "outputs": [
    {
     "name": "stdout",
     "output_type": "stream",
     "text": [
      "[('gent', 60), ('nomn', 49), ('accs', 22)]\n"
     ]
    },
    {
     "data": {
      "image/png": "[encoded data removed]",
      "text/plain": [
       "<matplotlib.figure.Figure at 0x7f2a63cb00f0>"
      ]
     },
     "metadata": {},
     "output_type": "display_data"
    },
    {
     "data": {
      "image/png": "[encoded data removed]",
      "text/plain": [
       "<matplotlib.figure.Figure at 0x7f2a63cabdd8>"
      ]
     },
     "metadata": {},
     "output_type": "display_data"
    }
   ],
   "source": [
    "nouncase = Counter([word.tag.case for word in words if word.tag.POS=='NOUN'])\n",
    "print(nouncase.most_common(3))\n",
    "barchart(nouncase, 100, \"Распределение падежей у существительных\")\n",
    "barchart(nouncase, poscounter['NOUN'], \"Распределение падежей у существительных, %\")"
   ]
  },
  {
   "cell_type": "markdown",
   "metadata": {},
   "source": [
    "Видим, что наиболее частотны генетив, номинатив и аккузатив.\n",
    "\n",
    "То же, с прилагательными (полными):"
   ]
  },
  {
   "cell_type": "code",
   "execution_count": 10,
   "metadata": {
    "collapsed": false
   },
   "outputs": [
    {
     "name": "stdout",
     "output_type": "stream",
     "text": [
      "[('nomn', 47), ('gent', 44), ('accs', 12)]\n"
     ]
    },
    {
     "data": {
      "image/png": "[encoded data removed]",
      "text/plain": [
       "<matplotlib.figure.Figure at 0x7f2a63b5f0f0>"
      ]
     },
     "metadata": {},
     "output_type": "display_data"
    },
    {
     "data": {
      "image/png": "[encoded data removed]",
      "text/plain": [
       "<matplotlib.figure.Figure at 0x7f2a63b93208>"
      ]
     },
     "metadata": {},
     "output_type": "display_data"
    }
   ],
   "source": [
    "adjcase = Counter([word.tag.case for word in words if word.tag.POS=='ADJF'])\n",
    "print(adjcase.most_common(3))\n",
    "barchart(adjcase, 100, \"Распределение падежей у прилагательных\")\n",
    "barchart(adjcase, poscounter['ADJF'], \"Распределение падежей у прилагательных, %\")"
   ]
  },
  {
   "cell_type": "markdown",
   "metadata": {},
   "source": [
    "Снова лидируют номинатив, генетив и аккузатив. А если среди всех частей речи?"
   ]
  },
  {
   "cell_type": "code",
   "execution_count": 11,
   "metadata": {
    "collapsed": false
   },
   "outputs": [
    {
     "name": "stdout",
     "output_type": "stream",
     "text": [
      "[('nomn', 130), ('gent', 119), ('accs', 52)]\n"
     ]
    },
    {
     "data": {
      "image/png": "[encoded data removed]",
      "text/plain": [
       "<matplotlib.figure.Figure at 0x7f2a61572898>"
      ]
     },
     "metadata": {},
     "output_type": "display_data"
    }
   ],
   "source": [
    "casecounter = Counter([word.tag.case for word in words if word.tag.case is not None])\n",
    "print(casecounter.most_common(3))\n",
    "barchart(casecounter, len([word.tag.case for word in words if word.tag.case is not None]), \"Относительная частота падежей\")"
   ]
  },
  {
   "cell_type": "markdown",
   "metadata": {},
   "source": [
    "Да, эти три падежа -- самые популярные.\n",
    "\n",
    "Выясним наиболее частотные морфологические формы глаголов (по общей форме, и по времени/лицу/числу в отдельности):"
   ]
  },
  {
   "cell_type": "code",
   "execution_count": 12,
   "metadata": {
    "collapsed": true
   },
   "outputs": [],
   "source": [
    "verbs = [word for word in words if word.tag.POS=='VERB']\n",
    "verbstags = Counter([verb.tag.cyr_repr for verb in verbs]) #Демонстрация возможностей использования русскоязычных граммем\n",
    "verbstenses = Counter([verb.tag.tense for verb in verbs])\n",
    "verbsperson = Counter([verb.tag.person for verb in verbs])\n",
    "verbsnumber = Counter([verb.tag.number for verb in verbs])"
   ]
  },
  {
   "cell_type": "code",
   "execution_count": 13,
   "metadata": {
    "collapsed": false
   },
   "outputs": [
    {
     "name": "stdout",
     "output_type": "stream",
     "text": [
      "[('ГЛ,несов,неперех ед,3л,наст,изъяв', 11),\n",
      " ('ГЛ,несов,перех ед,3л,наст,изъяв', 7),\n",
      " ('ГЛ,сов,перех мр,ед,прош,изъяв', 6)]\n"
     ]
    }
   ],
   "source": [
    "pprint(verbstags.most_common(3))"
   ]
  },
  {
   "cell_type": "markdown",
   "metadata": {},
   "source": [
    "Теперь для каждой характеристики отдельно:"
   ]
  },
  {
   "cell_type": "code",
   "execution_count": 14,
   "metadata": {
    "collapsed": false
   },
   "outputs": [
    {
     "name": "stdout",
     "output_type": "stream",
     "text": [
      "[('pres', 24), ('past', 14), ('futr', 3)]\n"
     ]
    }
   ],
   "source": [
    "pprint(verbstenses.most_common())"
   ]
  },
  {
   "cell_type": "code",
   "execution_count": 15,
   "metadata": {
    "collapsed": false
   },
   "outputs": [
    {
     "name": "stdout",
     "output_type": "stream",
     "text": [
      "[('3per', 24), (None, 14), ('1per', 3)]\n"
     ]
    }
   ],
   "source": [
    "pprint(verbsperson.most_common())"
   ]
  },
  {
   "cell_type": "markdown",
   "metadata": {},
   "source": [
    "Заметим, что в большинстве глаголов лицо не определилось."
   ]
  },
  {
   "cell_type": "code",
   "execution_count": 16,
   "metadata": {
    "collapsed": false
   },
   "outputs": [
    {
     "name": "stdout",
     "output_type": "stream",
     "text": [
      "[('sing', 33), ('plur', 8)]\n"
     ]
    }
   ],
   "source": [
    "pprint(verbsnumber.most_common())"
   ]
  },
  {
   "cell_type": "markdown",
   "metadata": {},
   "source": [
    "Глаголов в ед.ч больше."
   ]
  },
  {
   "cell_type": "markdown",
   "metadata": {},
   "source": [
    "#### Лексические характеристики\n",
    "\n",
    "Подсчитаем число уникальных лемм, для каждой будем хранить часть речи. Здесь объединим инфинитивы и глаголы."
   ]
  },
  {
   "cell_type": "code",
   "execution_count": 17,
   "metadata": {
    "collapsed": false
   },
   "outputs": [
    {
     "name": "stdout",
     "output_type": "stream",
     "text": [
      "Число уникальных лемм: 317\n",
      "Число уникальных лемм существительных: 97\n",
      "Число уникальных лемм глаголов: 39\n",
      "Число уникальных лемм прилагательных: 58\n",
      "Число уникальных лемм наречий: 29\n",
      "Число незнакомых слов: 0\n"
     ]
    }
   ],
   "source": [
    "lemmas = [[word.normal_form, word.tag.POS] for word in words]\n",
    "\n",
    "for tuple in lemmas:\n",
    "    if tuple[1]=='INFN':\n",
    "        tuple[1]='VERB'\n",
    "    \n",
    "\n",
    "lemmas = [(elem[0], elem[1]) for elem in lemmas]\n",
    "lemmas = list(set(lemmas))\n",
    "print(\"Число уникальных лемм:\", len(lemmas))\n",
    "print(\"Число уникальных лемм существительных:\", len([lemm for lemm in lemmas if lemm[1]=='NOUN']))\n",
    "print(\"Число уникальных лемм глаголов:\", len([lemm for lemm in lemmas if lemm[1]=='VERB']))\n",
    "print(\"Число уникальных лемм прилагательных:\", len([lemm for lemm in lemmas if lemm[1]=='ADJF']))\n",
    "print(\"Число уникальных лемм наречий:\", len([lemm for lemm in lemmas if lemm[1]=='ADVB']))\n",
    "print(\"Число незнакомых слов:\", len([lemm for lemm in lemmas if lemm[1]==None]))"
   ]
  },
  {
   "cell_type": "markdown",
   "metadata": {},
   "source": [
    "\"Незнакомыми словами\" назовём слова с неопределённой частью речи. Таких нет.\n",
    "\n",
    "Теперь узнаем самые частотные слова и их относительную частоту в процентах (с точностью 5 знаков после запятой)"
   ]
  },
  {
   "cell_type": "code",
   "execution_count": 18,
   "metadata": {
    "collapsed": false,
    "scrolled": true
   },
   "outputs": [
    {
     "name": "stdout",
     "output_type": "stream",
     "text": [
      "[('и', 4.13589),\n",
      " ('в', 3.54505),\n",
      " ('не', 1.92024),\n",
      " ('что', 1.77253),\n",
      " ('от', 1.4771),\n",
      " ('я', 1.18168),\n",
      " ('есть', 1.18168),\n",
      " ('его', 1.18168),\n",
      " ('все', 1.03397),\n",
      " ('на', 1.03397)]\n"
     ]
    }
   ],
   "source": [
    "wordscounter = Counter([word for word in wordforms])\n",
    "pprint([(w,round(100*f/len(wordforms), 5)) for (w,f) in wordscounter.most_common(10)])"
   ]
  },
  {
   "cell_type": "markdown",
   "metadata": {},
   "source": [
    "То же для существительных:"
   ]
  },
  {
   "cell_type": "code",
   "execution_count": 19,
   "metadata": {
    "collapsed": false
   },
   "outputs": [
    {
     "name": "stdout",
     "output_type": "stream",
     "text": [
      "[('безумие', 3.0303),\n",
      " ('вопрос', 2.42424),\n",
      " ('люди', 1.81818),\n",
      " ('уровень', 1.81818),\n",
      " ('кому', 1.81818)]\n"
     ]
    }
   ],
   "source": [
    "nouncounter = Counter([word.word for word in words if word.tag.POS=='NOUN'])\n",
    "pprint([(w,round(100*f/poscounter['NOUN'], 5)) for (w,f) in nouncounter.most_common(5)])"
   ]
  },
  {
   "cell_type": "markdown",
   "metadata": {},
   "source": [
    "Для прилагательных:"
   ]
  },
  {
   "cell_type": "code",
   "execution_count": 20,
   "metadata": {
    "collapsed": false
   },
   "outputs": [
    {
     "name": "stdout",
     "output_type": "stream",
     "text": [
      "[('все', 5.6),\n",
      " ('этот', 3.2),\n",
      " ('безумных', 3.2),\n",
      " ('своих', 2.4),\n",
      " ('нормальных', 2.4)]\n"
     ]
    }
   ],
   "source": [
    "adjcounter = Counter([word.word for word in words if word.tag.POS=='ADJF'])\n",
    "pprint([(w,round(100*f/poscounter['ADJF'], 5)) for (w,f) in adjcounter.most_common(5)])"
   ]
  },
  {
   "cell_type": "markdown",
   "metadata": {},
   "source": [
    "То же у глаголов:"
   ]
  },
  {
   "cell_type": "code",
   "execution_count": 21,
   "metadata": {
    "collapsed": false
   },
   "outputs": [
    {
     "name": "stdout",
     "output_type": "stream",
     "text": [
      "[('быть', 5.88235),\n",
      " ('может', 3.92157),\n",
      " ('был', 3.92157),\n",
      " ('применяется', 3.92157),\n",
      " ('остаётся', 3.92157)]\n"
     ]
    }
   ],
   "source": [
    "verbcounter = Counter([word.word for word in words if (word.tag.POS=='VERB' or word.tag.POS=='INFN')])\n",
    "pprint([(w,round(100*f/(poscounter['VERB']+poscounter['INFN']), 5)) for (w,f) in verbcounter.most_common(5)])"
   ]
  },
  {
   "cell_type": "markdown",
   "metadata": {},
   "source": [
    "И наречий:"
   ]
  },
  {
   "cell_type": "code",
   "execution_count": 22,
   "metadata": {
    "collapsed": false
   },
   "outputs": [
    {
     "name": "stdout",
     "output_type": "stream",
     "text": [
      "[('тогда', 7.89474),\n",
      " ('потому', 7.89474),\n",
      " ('почему', 5.26316),\n",
      " ('ясно', 5.26316),\n",
      " ('сначала', 5.26316)]\n"
     ]
    }
   ],
   "source": [
    "adverbcounter = Counter([word.word for word in words if word.tag.POS=='ADVB'])\n",
    "pprint([(w,round(100*f/poscounter['ADVB'], 5)) for (w,f) in adverbcounter.most_common(5)])"
   ]
  },
  {
   "cell_type": "markdown",
   "metadata": {},
   "source": [
    "Коэффициент лексического разнообразия (lexical diversity): "
   ]
  },
  {
   "cell_type": "code",
   "execution_count": 23,
   "metadata": {
    "collapsed": false
   },
   "outputs": [
    {
     "name": "stdout",
     "output_type": "stream",
     "text": [
      "0.46824\n"
     ]
    }
   ],
   "source": [
    "LD = len(lemmas)/len(wordforms)\n",
    "print(round(LD,5))"
   ]
  },
  {
   "cell_type": "markdown",
   "metadata": {},
   "source": [
    "Таким образом, было подсчитано порядка 16 характеристик текста."
   ]
  }
 ],
 "metadata": {
  "kernelspec": {
   "display_name": "Python 3",
   "language": "python",
   "name": "python3"
  },
  "language_info": {
   "codemirror_mode": {
    "name": "ipython",
    "version": 3
   },
   "file_extension": ".py",
   "mimetype": "text/x-python",
   "name": "python",
   "nbconvert_exporter": "python",
   "pygments_lexer": "ipython3",
   "version": "3.6.0"
  }
 },
 "nbformat": 4,
 "nbformat_minor": 0
}
