{
 "cells": [
  {
   "cell_type": "markdown",
   "metadata": {},
   "source": [
    "### Михаил Ховричев"
   ]
  },
  {
   "cell_type": "markdown",
   "metadata": {},
   "source": [
    "Будем составлять программу и проводить анализ по ходу действия. В этом блокноте анализируется текст второй главы \"Алисы в стране чудес\". В аналогичном блокноте -- анализ текста по выбору.\n",
    "\n",
    "Python 3.4\n",
    "Для токенизации используется NLTK. Сегментацию он тоже осуществляет, но качество сегментации оставило желать лучшего.\n",
    "Морфологический анализатор: pymorphy2.\n",
    "Для построения графиков: matplotlib.\n",
    "\n",
    "Часть комментариев для удобства будет в самом коде."
   ]
  },
  {
   "cell_type": "code",
   "execution_count": 9,
   "metadata": {
    "collapsed": true
   },
   "outputs": [],
   "source": [
    "%matplotlib inline\n",
    "import pymorphy2\n",
    "from nltk import word_tokenize, sent_tokenize\n",
    "from collections import Counter\n",
    "import matplotlib.pyplot as plt\n",
    "from pprint import pprint\n",
    "\n",
    "morph = pymorphy2.MorphAnalyzer()"
   ]
  },
  {
   "cell_type": "markdown",
   "metadata": {},
   "source": [
    "Функция для быстрого построения столбчатых диаграмм с нормализацией (высота столбца -- проценты)"
   ]
  },
  {
   "cell_type": "code",
   "execution_count": 4,
   "metadata": {
    "collapsed": false
   },
   "outputs": [],
   "source": [
    "def barchart(dic, normalizer, title):\n",
    "    plt.bar(range(len(dic)), sorted([100*x/normalizer for x in list(dic.values())], reverse=True), width=0.8, color='g')\n",
    "    plt.xticks(range(len(dic)), sorted(dic, key=dic.get, reverse=True), rotation=45)\n",
    "    plt.title(title)\n",
    "    plt.show()"
   ]
  },
  {
   "cell_type": "code",
   "execution_count": 5,
   "metadata": {
    "collapsed": false
   },
   "outputs": [],
   "source": [
    "text = open('alice.txt', 'r')\n",
    "string = text.read()"
   ]
  },
  {
   "cell_type": "code",
   "execution_count": 6,
   "metadata": {
    "collapsed": false
   },
   "outputs": [],
   "source": [
    "tokens = word_tokenize(string)"
   ]
  },
  {
   "cell_type": "markdown",
   "metadata": {},
   "source": [
    "Список токенов выглядит примерно так:"
   ]
  },
  {
   "cell_type": "code",
   "execution_count": 57,
   "metadata": {
    "collapsed": false
   },
   "outputs": [
    {
     "name": "stdout",
     "output_type": "stream",
     "text": [
      "['—', 'Всё', 'страньше', 'и', 'страньше', '!', '—', 'вскричала', 'Алиса', '.']\n"
     ]
    }
   ],
   "source": [
    "pprint(tokens[:10])"
   ]
  },
  {
   "cell_type": "code",
   "execution_count": 10,
   "metadata": {
    "collapsed": false
   },
   "outputs": [
    {
     "data": {
      "text/plain": [
       "[Parse(word='всё', tag=OpencorporaTag('ADJF,Apro neut,sing,nomn'), normal_form='весь', score=0.4, methods_stack=((<DictionaryAnalyzer>, 'всё', 703, 14),)),\n",
       " Parse(word='страньше', tag=OpencorporaTag('COMP'), normal_form='странний', score=0.5135135135135136, methods_stack=((<DictionaryAnalyzer>, 'раньше', 2648, 27), (<UnknownPrefixAnalyzer>, 'ст'))),\n",
       " Parse(word='и', tag=OpencorporaTag('CONJ'), normal_form='и', score=0.997671, methods_stack=((<DictionaryAnalyzer>, 'и', 20, 0),)),\n",
       " Parse(word='страньше', tag=OpencorporaTag('COMP'), normal_form='странний', score=0.5135135135135136, methods_stack=((<DictionaryAnalyzer>, 'раньше', 2648, 27), (<UnknownPrefixAnalyzer>, 'ст'))),\n",
       " Parse(word='вскричала', tag=OpencorporaTag('VERB,perf,intr femn,sing,past,indc'), normal_form='вскричать', score=1.0, methods_stack=((<DictionaryAnalyzer>, 'вскричала', 950, 2),)),\n",
       " Parse(word='алиса', tag=OpencorporaTag('NOUN,anim,femn,Name sing,nomn'), normal_form='алиса', score=1.0, methods_stack=((<DictionaryAnalyzer>, 'алиса', 227, 0),)),\n",
       " Parse(word='от', tag=OpencorporaTag('PREP'), normal_form='от', score=1.0, methods_stack=((<DictionaryAnalyzer>, 'от', 375, 0),)),\n",
       " Parse(word='изумления', tag=OpencorporaTag('NOUN,inan,neut sing,gent'), normal_form='изумление', score=0.666666, methods_stack=((<DictionaryAnalyzer>, 'изумления', 76, 2),)),\n",
       " Parse(word='она', tag=OpencorporaTag('NPRO,femn,3per,Anph sing,nomn'), normal_form='она', score=1.0, methods_stack=((<DictionaryAnalyzer>, 'она', 2209, 0),)),\n",
       " Parse(word='совсем', tag=OpencorporaTag('ADVB'), normal_form='совсем', score=1.0, methods_stack=((<DictionaryAnalyzer>, 'совсем', 3, 0),))]"
      ]
     },
     "execution_count": 10,
     "metadata": {},
     "output_type": "execute_result"
    }
   ],
   "source": [
    "# Уберём знаки пунктуации и неразобранные токены, остальное выглядит примерно так\n",
    "words = [morph.parse(token)[0] for token in tokens if not ('PNCT' in morph.parse(token)[0].tag or 'UNKN' in morph.parse(token)[0].tag)]\n",
    "words[:10]"
   ]
  },
  {
   "cell_type": "markdown",
   "metadata": {},
   "source": [
    "#### Общестатистические характеристики\n",
    "\n",
    "Посчитаем количество словоупотреблений и словоформ:"
   ]
  },
  {
   "cell_type": "code",
   "execution_count": 58,
   "metadata": {
    "collapsed": false
   },
   "outputs": [
    {
     "name": "stdout",
     "output_type": "stream",
     "text": [
      "Количество словоупотреблений: 1590\n",
      "Количество словоформ: 804\n"
     ]
    }
   ],
   "source": [
    "wordforms = [item.word for item in words]\n",
    "unique_wordforms = {word: len(word) for word in wordforms} # На всякий случай будем хранить ещё и длину\n",
    "print('Количество словоупотреблений:', len(wordforms))\n",
    "print('Количество словоформ:', len(unique_wordforms))"
   ]
  },
  {
   "cell_type": "markdown",
   "metadata": {},
   "source": [
    "#### Морфологические характеристики\n",
    "\n",
    "Узнаем процент различных частей речи:"
   ]
  },
  {
   "cell_type": "code",
   "execution_count": 61,
   "metadata": {
    "collapsed": false
   },
   "outputs": [
    {
     "name": "stdout",
     "output_type": "stream",
     "text": [
      "[('NOUN', 320), ('VERB', 257), ('CONJ', 191), ('NPRO', 179), ('PREP', 150)]\n"
     ]
    },
    {
     "data": {
      "image/png": "[encoded data removed]",
      "text/plain": [
       "<matplotlib.figure.Figure at 0x7fccf67ea470>"
      ]
     },
     "metadata": {},
     "output_type": "display_data"
    }
   ],
   "source": [
    "poscounter = Counter([word.tag.POS for word in words])\n",
    "print(poscounter.most_common(5)) # 5 самых популярных частей речи\n",
    "barchart(poscounter, len(wordforms), \"Распределение частей речи, %\")"
   ]
  },
  {
   "cell_type": "markdown",
   "metadata": {},
   "source": [
    "**Важно!**\n",
    "В pymorphy2 несколько другая классификация частей речи. Например, инфинитив -- отдельная от глагола часть речи. Краткие и полные прилагательные также относятся к различным частям речи. \n",
    "\n",
    "Полный список см. <a href=\"https://pymorphy2.readthedocs.io/en/latest/user/grammemes.html\">здесь</a> и  <a href=\"http://opencorpora.org/dict.php?act=gram\">здесь</a>.\n",
    "\n",
    "Похожим образом узнаем абсолютную и относительную частоту падежей у существительных:"
   ]
  },
  {
   "cell_type": "code",
   "execution_count": 14,
   "metadata": {
    "collapsed": false
   },
   "outputs": [
    {
     "name": "stdout",
     "output_type": "stream",
     "text": [
      "[('nomn', 118), ('gent', 76), ('accs', 53)]\n"
     ]
    },
    {
     "data": {
      "image/png": "[encoded data removed]",
      "text/plain": [
       "<matplotlib.figure.Figure at 0x7fccf699eac8>"
      ]
     },
     "metadata": {},
     "output_type": "display_data"
    },
    {
     "data": {
      "image/png": "[encoded data removed]",
      "text/plain": [
       "<matplotlib.figure.Figure at 0x7fccf69aa630>"
      ]
     },
     "metadata": {},
     "output_type": "display_data"
    }
   ],
   "source": [
    "nouncase = Counter([word.tag.case for word in words if word.tag.POS=='NOUN'])\n",
    "print(nouncase.most_common(3))\n",
    "barchart(nouncase, 100, \"Распределение падежей у существительных\")\n",
    "barchart(nouncase, poscounter['NOUN'], \"Распределение падежей у существительных, %\")"
   ]
  },
  {
   "cell_type": "markdown",
   "metadata": {},
   "source": [
    "Видим, что наиболее частотны номинатив, генетив и аккузатив.\n",
    "\n",
    "То же, с прилагательными (полными):"
   ]
  },
  {
   "cell_type": "code",
   "execution_count": 15,
   "metadata": {
    "collapsed": false
   },
   "outputs": [
    {
     "name": "stdout",
     "output_type": "stream",
     "text": [
      "[('nomn', 69), ('gent', 38), ('accs', 10)]\n"
     ]
    },
    {
     "data": {
      "image/png": "[encoded data removed]",
      "text/plain": [
       "<matplotlib.figure.Figure at 0x7fccf686f320>"
      ]
     },
     "metadata": {},
     "output_type": "display_data"
    },
    {
     "data": {
      "image/png": "[encoded data removed]",
      "text/plain": [
       "<matplotlib.figure.Figure at 0x7fccf697f390>"
      ]
     },
     "metadata": {},
     "output_type": "display_data"
    }
   ],
   "source": [
    "adjcase = Counter([word.tag.case for word in words if word.tag.POS=='ADJF'])\n",
    "print(adjcase.most_common(3))\n",
    "barchart(adjcase, 100, \"Распределение падежей у прилагательных\")\n",
    "barchart(adjcase, poscounter['ADJF'], \"Распределение падежей у прилагательных, %\")"
   ]
  },
  {
   "cell_type": "markdown",
   "metadata": {},
   "source": [
    "Снова лидируют номинатив, генетив и аккузатив.\n",
    "Неужели это со всеми частями речи (у которых можно выделить падеж)? Проверим."
   ]
  },
  {
   "cell_type": "code",
   "execution_count": 16,
   "metadata": {
    "collapsed": false
   },
   "outputs": [
    {
     "name": "stdout",
     "output_type": "stream",
     "text": [
      "[('nomn', 298), ('gent', 139), ('accs', 77)]\n"
     ]
    },
    {
     "data": {
      "image/png": "[encoded data removed]",
      "text/plain": [
       "<matplotlib.figure.Figure at 0x7fccf708f390>"
      ]
     },
     "metadata": {},
     "output_type": "display_data"
    }
   ],
   "source": [
    "casecounter = Counter([word.tag.case for word in words if word.tag.case is not None])\n",
    "print(casecounter.most_common(3))\n",
    "barchart(casecounter, len([word.tag.case for word in words if word.tag.case is not None]), \"Относительная частота падежей\")"
   ]
  },
  {
   "cell_type": "markdown",
   "metadata": {},
   "source": [
    "Да, эти три падежа -- самые популярные.\n",
    "\n",
    "Выясним наиболее частотные морфологические формы глаголов (по общей форме, и по времени/лицу/числу в отдельности):"
   ]
  },
  {
   "cell_type": "code",
   "execution_count": 62,
   "metadata": {
    "collapsed": true
   },
   "outputs": [],
   "source": [
    "verbs = [word for word in words if word.tag.POS=='VERB']\n",
    "verbstags = Counter([verb.tag.cyr_repr for verb in verbs]) #Демонстрация возможностей использования русскоязычных граммем\n",
    "verbstenses = Counter([verb.tag.tense for verb in verbs])\n",
    "verbsperson = Counter([verb.tag.person for verb in verbs])\n",
    "verbsnumber = Counter([verb.tag.number for verb in verbs])"
   ]
  },
  {
   "cell_type": "code",
   "execution_count": 63,
   "metadata": {
    "collapsed": false
   },
   "outputs": [
    {
     "name": "stdout",
     "output_type": "stream",
     "text": [
      "[('ГЛ,сов,неперех жр,ед,прош,изъяв', 51),\n",
      " ('ГЛ,сов,перех жр,ед,прош,изъяв', 39),\n",
      " ('ГЛ,несов,неперех жр,ед,прош,изъяв', 16)]\n"
     ]
    }
   ],
   "source": [
    "pprint(verbstags.most_common(3))"
   ]
  },
  {
   "cell_type": "markdown",
   "metadata": {},
   "source": [
    "Заметим, что лидирует женский род (обусловлено спецификой текста, главные герои текста -- женского пола), прошедшее время.\n",
    "\n",
    "Теперь для каждой характеристики отдельно:"
   ]
  },
  {
   "cell_type": "code",
   "execution_count": 19,
   "metadata": {
    "collapsed": false
   },
   "outputs": [
    {
     "name": "stdout",
     "output_type": "stream",
     "text": [
      "[('past', 155), ('futr', 47), ('pres', 45), (None, 10)]\n"
     ]
    }
   ],
   "source": [
    "pprint(verbstenses.most_common())"
   ]
  },
  {
   "cell_type": "code",
   "execution_count": 20,
   "metadata": {
    "collapsed": false
   },
   "outputs": [
    {
     "name": "stdout",
     "output_type": "stream",
     "text": [
      "[(None, 167), ('3per', 48), ('1per', 30), ('2per', 12)]\n"
     ]
    }
   ],
   "source": [
    "pprint(verbsperson.most_common())"
   ]
  },
  {
   "cell_type": "markdown",
   "metadata": {},
   "source": [
    "Заметим, что в большинстве глаголов лицо не определилось."
   ]
  },
  {
   "cell_type": "code",
   "execution_count": 21,
   "metadata": {
    "collapsed": false
   },
   "outputs": [
    {
     "name": "stdout",
     "output_type": "stream",
     "text": [
      "[('sing', 221), ('plur', 36)]\n"
     ]
    }
   ],
   "source": [
    "pprint(verbsnumber.most_common())"
   ]
  },
  {
   "cell_type": "markdown",
   "metadata": {},
   "source": [
    "Глаголов в ед.ч, очевидно, больше."
   ]
  },
  {
   "cell_type": "markdown",
   "metadata": {},
   "source": [
    "#### Лексические характеристики\n",
    "\n",
    "Подсчитаем число уникальных лемм, для каждой будем хранить часть речи. Здесь объединим инфинитивы и глаголы."
   ]
  },
  {
   "cell_type": "code",
   "execution_count": 68,
   "metadata": {
    "collapsed": false
   },
   "outputs": [
    {
     "name": "stdout",
     "output_type": "stream",
     "text": [
      "Число уникальных лемм: 643\n",
      "Число уникальных лемм существительных: 178\n",
      "Число уникальных лемм глаголов: 181\n",
      "Число уникальных лемм прилагательных: 60\n",
      "Число уникальных лемм наречий: 86\n",
      "Число незнакомых слов: 4\n"
     ]
    }
   ],
   "source": [
    "lemmas = [[word.normal_form, word.tag.POS] for word in words]\n",
    "\n",
    "for tuple in lemmas:\n",
    "    if tuple[1]=='INFN':\n",
    "        tuple[1]='VERB'\n",
    "    \n",
    "\n",
    "lemmas = [(elem[0], elem[1]) for elem in lemmas]\n",
    "lemmas = list(set(lemmas))\n",
    "print(\"Число уникальных лемм:\", len(lemmas))\n",
    "print(\"Число уникальных лемм существительных:\", len([lemm for lemm in lemmas if lemm[1]=='NOUN']))\n",
    "print(\"Число уникальных лемм глаголов:\", len([lemm for lemm in lemmas if lemm[1]=='VERB']))\n",
    "print(\"Число уникальных лемм прилагательных:\", len([lemm for lemm in lemmas if lemm[1]=='ADJF']))\n",
    "print(\"Число уникальных лемм наречий:\", len([lemm for lemm in lemmas if lemm[1]=='ADVB']))\n",
    "print(\"Число незнакомых слов:\", len([lemm for lemm in lemmas if lemm[1]==None]))"
   ]
  },
  {
   "cell_type": "markdown",
   "metadata": {},
   "source": [
    "\"Незнакомыми словами\" назовём слова с неопределённой частью речи. Таких четыре, это слова фразы \"— Où est ma chatte?\"\n",
    "\n",
    "Теперь узнаем самые частотные слова и их относительную частоту в процентах (с точностью 5 знаков после запятой)"
   ]
  },
  {
   "cell_type": "code",
   "execution_count": 26,
   "metadata": {
    "collapsed": false,
    "scrolled": true
   },
   "outputs": [
    {
     "name": "stdout",
     "output_type": "stream",
     "text": [
      "[('и', 3.89937),\n",
      " ('она', 2.83019),\n",
      " ('в', 2.7044),\n",
      " ('я', 2.07547),\n",
      " ('не', 2.07547),\n",
      " ('алиса', 1.8239),\n",
      " ('что', 1.44654),\n",
      " ('а', 1.25786),\n",
      " ('на', 1.19497),\n",
      " ('мышь', 0.8805)]\n"
     ]
    }
   ],
   "source": [
    "wordscounter = Counter([word for word in wordforms])\n",
    "pprint([(w,round(100*f/len(wordforms), 5)) for (w,f) in wordscounter.most_common(10)])"
   ]
  },
  {
   "cell_type": "markdown",
   "metadata": {},
   "source": [
    "То же для существительных:"
   ]
  },
  {
   "cell_type": "code",
   "execution_count": 43,
   "metadata": {
    "collapsed": false
   },
   "outputs": [
    {
     "name": "stdout",
     "output_type": "stream",
     "text": [
      "[('алиса', 9.0625),\n",
      " ('мышь', 4.375),\n",
      " ('случае', 1.5625),\n",
      " ('кошек', 1.5625),\n",
      " ('мейбл', 1.25)]\n"
     ]
    }
   ],
   "source": [
    "nouncounter = Counter([word.word for word in words if word.tag.POS=='NOUN'])\n",
    "pprint([(w,round(100*f/poscounter['NOUN'], 5)) for (w,f) in nouncounter.most_common(5)])"
   ]
  },
  {
   "cell_type": "markdown",
   "metadata": {},
   "source": [
    "Для прилагательных:"
   ]
  },
  {
   "cell_type": "code",
   "execution_count": 44,
   "metadata": {
    "collapsed": false
   },
   "outputs": [
    {
     "name": "stdout",
     "output_type": "stream",
     "text": [
      "[('всё', 6.38298),\n",
      " ('её', 4.25532),\n",
      " ('такая', 2.83688),\n",
      " ('всех', 2.12766),\n",
      " ('всяком', 2.12766)]\n"
     ]
    }
   ],
   "source": [
    "adjcounter = Counter([word.word for word in words if word.tag.POS=='ADJF'])\n",
    "pprint([(w,round(100*f/poscounter['ADJF'], 5)) for (w,f) in adjcounter.most_common(5)])"
   ]
  },
  {
   "cell_type": "markdown",
   "metadata": {},
   "source": [
    "Да, pymorphy2 считает все эти слова за прилагательные. Даёт им тег \"Местоимённое прилагательное\".\n",
    "\n",
    "То же у глаголов:"
   ]
  },
  {
   "cell_type": "code",
   "execution_count": 51,
   "metadata": {
    "collapsed": false
   },
   "outputs": [
    {
     "name": "stdout",
     "output_type": "stream",
     "text": [
      "[('сказала', 3.32226),\n",
      " ('была', 2.99003),\n",
      " ('подумала', 2.65781),\n",
      " ('будет', 2.32558),\n",
      " ('было', 1.99336)]\n"
     ]
    }
   ],
   "source": [
    "verbcounter = Counter([word.word for word in words if (word.tag.POS=='VERB' or word.tag.POS=='INFN')])\n",
    "pprint([(w,round(100*f/(poscounter['VERB']+poscounter['INFN']), 5)) for (w,f) in verbcounter.most_common(5)])"
   ]
  },
  {
   "cell_type": "markdown",
   "metadata": {},
   "source": [
    "И наречий:"
   ]
  },
  {
   "cell_type": "code",
   "execution_count": 53,
   "metadata": {
    "collapsed": false
   },
   "outputs": [
    {
     "name": "stdout",
     "output_type": "stream",
     "text": [
      "[('теперь', 5.47945),\n",
      " ('тут', 4.79452),\n",
      " ('совсем', 4.79452),\n",
      " ('сегодня', 2.73973),\n",
      " ('здесь', 2.73973)]\n"
     ]
    }
   ],
   "source": [
    "adverbcounter = Counter([word.word for word in words if word.tag.POS=='ADVB'])\n",
    "pprint([(w,round(100*f/poscounter['ADVB'], 5)) for (w,f) in adverbcounter.most_common(5)])"
   ]
  },
  {
   "cell_type": "markdown",
   "metadata": {},
   "source": [
    "Коэффициент лексического разнообразия (lexical diversity): "
   ]
  },
  {
   "cell_type": "code",
   "execution_count": 56,
   "metadata": {
    "collapsed": false
   },
   "outputs": [
    {
     "name": "stdout",
     "output_type": "stream",
     "text": [
      "0.4044\n"
     ]
    }
   ],
   "source": [
    "LD = len(lemmas)/len(wordforms)\n",
    "print(round(LD,5))"
   ]
  },
  {
   "cell_type": "markdown",
   "metadata": {},
   "source": [
    "Таким образом, было подсчитано порядка 16 характеристик текста."
   ]
  }
 ],
 "metadata": {
  "kernelspec": {
   "display_name": "Python 3",
   "language": "python",
   "name": "python3"
  },
  "language_info": {
   "codemirror_mode": {
    "name": "ipython",
    "version": 3
   },
   "file_extension": ".py",
   "mimetype": "text/x-python",
   "name": "python",
   "nbconvert_exporter": "python",
   "pygments_lexer": "ipython3",
   "version": "3.6.0"
  }
 },
 "nbformat": 4,
 "nbformat_minor": 0
}
